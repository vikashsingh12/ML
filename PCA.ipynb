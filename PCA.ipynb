{
 "cells": [
  {
   "cell_type": "code",
   "execution_count": null,
   "metadata": {},
   "outputs": [],
   "source": [
    "                  ###  Prinipal Component Analysis of Eigen-Faces  ####"
   ]
  },
  {
   "cell_type": "code",
   "execution_count": 57,
   "metadata": {
    "scrolled": true
   },
   "outputs": [
    {
     "name": "stdout",
     "output_type": "stream",
     "text": [
      "624\n",
      "624\n"
     ]
    },
    {
     "data": {
      "text/plain": [
       "[array([ 9.338, 14.252, 20.89 , 30.241, 21.997, 10.446,  9.055, 26.87 ,\n",
       "        18.445, 14.327, 19.067, 18.005, 18.795, 13.598, 27.67 , 26.082,\n",
       "         4.784,  5.681,  6.279,  6.578,  6.578,  6.578, 21.278,  9.869,\n",
       "        13.563, 16.202, 27.619, 33.391,  4.805,  3.648]),\n",
       " array([ 9.452, 14.953, 22.89 , 32.828, 23.399, 11.033,  9.941, 27.87 ,\n",
       "        19.032, 14.914, 19.953, 19.407, 20.268, 14.185, 28.958, 26.968,\n",
       "         5.083,  5.98 ,  5.98 ,  5.681,  5.681,  5.382, 16.691,  7.467,\n",
       "        11.346, 14.8  , 27.103, 33.462,  5.603,  5.244])]"
      ]
     },
     "execution_count": 57,
     "metadata": {},
     "output_type": "execute_result"
    }
   ],
   "source": [
    "#import necessary library\n",
    "\n",
    "import pandas as pd \n",
    "import numpy as np \n",
    "from sklearn.decomposition import PCA\n",
    "from sklearn import preprocessing\n",
    "%matplotlib inline\n",
    "import matplotlib.image as mpimg\n",
    "from numpy import diag\n",
    "from numpy import zeros\n",
    "from scipy.linalg import svd\n",
    "import os\n",
    "\n",
    "os.chdir(r\"C:\\Users\\LENOVO\\Documents\\faces_4\") #point to current directory\n",
    "shapes = ['mitchell','night','phoebe','saavik','steffi','sz24','tammo','an2i','at33','boland','bpm','ch4f','cheyer','choon','danieln','glickman','karyadi','kawamura','kk49','megak']    #saving the list of the folders in shapes folder\n",
    "path = \"C:/Users/LENOVO/Documents/faces_4/\"  #path for the images folder in local\n",
    "files = []                                   # for storing all the images path \n",
    "result = []                                  # for storing the image\n",
    "for shape in shapes:                                       \n",
    "     new_path = path + shape                               \n",
    "     for file in os.listdir(new_path):                     \n",
    "        files.append(os.path.join(new_path,file))       \n",
    "        result.append(shape)\n",
    "\n",
    "print(len(files))                               #printinf the lenght of the files\n",
    "\n",
    "#This part of code is used to read the images from the paths stored in files array and construct data frame from images array\n",
    "def rgb2gray(img):\n",
    "    return np.dot(img[...,:3], [0.299, 0.587, 0.114])\n",
    "originalimages = [] #list to store images\n",
    "images = [] #list for images  \n",
    "for file in files:\n",
    "    img = mpimg.imread(file)\n",
    "    img = rgb2gray(img)\n",
    "    originalimages.append(img)\n",
    "    img = np.ravel(img)\n",
    "    images.append(img)\n",
    "\n",
    "print(len(images))\n",
    "df = pd.DataFrame(images)    #converting our list into DataFrame\n",
    "df.head()                    # printing the header of dataframe\n",
    "images[0:2]"
   ]
  },
  {
   "cell_type": "code",
   "execution_count": null,
   "metadata": {},
   "outputs": [],
   "source": [
    "# The number of observation is slightly lower then the diemnsion fo the observation "
   ]
  },
  {
   "cell_type": "code",
   "execution_count": 58,
   "metadata": {},
   "outputs": [
    {
     "data": {
      "text/html": [
       "<div>\n",
       "<style scoped>\n",
       "    .dataframe tbody tr th:only-of-type {\n",
       "        vertical-align: middle;\n",
       "    }\n",
       "\n",
       "    .dataframe tbody tr th {\n",
       "        vertical-align: top;\n",
       "    }\n",
       "\n",
       "    .dataframe thead th {\n",
       "        text-align: right;\n",
       "    }\n",
       "</style>\n",
       "<table border=\"1\" class=\"dataframe\">\n",
       "  <thead>\n",
       "    <tr style=\"text-align: right;\">\n",
       "      <th></th>\n",
       "      <th>0</th>\n",
       "      <th>1</th>\n",
       "      <th>2</th>\n",
       "      <th>3</th>\n",
       "      <th>4</th>\n",
       "      <th>5</th>\n",
       "      <th>6</th>\n",
       "      <th>7</th>\n",
       "      <th>8</th>\n",
       "      <th>9</th>\n",
       "      <th>...</th>\n",
       "      <th>20</th>\n",
       "      <th>21</th>\n",
       "      <th>22</th>\n",
       "      <th>23</th>\n",
       "      <th>24</th>\n",
       "      <th>25</th>\n",
       "      <th>26</th>\n",
       "      <th>27</th>\n",
       "      <th>28</th>\n",
       "      <th>29</th>\n",
       "    </tr>\n",
       "  </thead>\n",
       "  <tbody>\n",
       "    <tr>\n",
       "      <th>count</th>\n",
       "      <td>624.000000</td>\n",
       "      <td>624.000000</td>\n",
       "      <td>624.000000</td>\n",
       "      <td>624.000000</td>\n",
       "      <td>624.000000</td>\n",
       "      <td>624.000000</td>\n",
       "      <td>624.000000</td>\n",
       "      <td>624.000000</td>\n",
       "      <td>624.000000</td>\n",
       "      <td>624.000000</td>\n",
       "      <td>...</td>\n",
       "      <td>624.000000</td>\n",
       "      <td>624.000000</td>\n",
       "      <td>624.000000</td>\n",
       "      <td>624.000000</td>\n",
       "      <td>624.000000</td>\n",
       "      <td>624.000000</td>\n",
       "      <td>624.000000</td>\n",
       "      <td>624.000000</td>\n",
       "      <td>624.000000</td>\n",
       "      <td>624.000000</td>\n",
       "    </tr>\n",
       "    <tr>\n",
       "      <th>mean</th>\n",
       "      <td>30.619090</td>\n",
       "      <td>30.747096</td>\n",
       "      <td>31.717303</td>\n",
       "      <td>29.854734</td>\n",
       "      <td>29.822417</td>\n",
       "      <td>26.673753</td>\n",
       "      <td>26.397925</td>\n",
       "      <td>27.466572</td>\n",
       "      <td>24.245659</td>\n",
       "      <td>26.010772</td>\n",
       "      <td>...</td>\n",
       "      <td>16.451268</td>\n",
       "      <td>15.749631</td>\n",
       "      <td>14.488851</td>\n",
       "      <td>14.046566</td>\n",
       "      <td>13.442252</td>\n",
       "      <td>13.293122</td>\n",
       "      <td>13.987146</td>\n",
       "      <td>15.972907</td>\n",
       "      <td>14.172434</td>\n",
       "      <td>16.848830</td>\n",
       "    </tr>\n",
       "    <tr>\n",
       "      <th>std</th>\n",
       "      <td>11.804315</td>\n",
       "      <td>11.060630</td>\n",
       "      <td>10.186797</td>\n",
       "      <td>9.806759</td>\n",
       "      <td>10.346903</td>\n",
       "      <td>13.119901</td>\n",
       "      <td>12.325152</td>\n",
       "      <td>12.989759</td>\n",
       "      <td>12.860349</td>\n",
       "      <td>13.587295</td>\n",
       "      <td>...</td>\n",
       "      <td>10.164135</td>\n",
       "      <td>9.734205</td>\n",
       "      <td>9.798895</td>\n",
       "      <td>9.023769</td>\n",
       "      <td>12.011685</td>\n",
       "      <td>10.492269</td>\n",
       "      <td>11.228270</td>\n",
       "      <td>14.410665</td>\n",
       "      <td>12.860976</td>\n",
       "      <td>15.812062</td>\n",
       "    </tr>\n",
       "    <tr>\n",
       "      <th>min</th>\n",
       "      <td>0.701000</td>\n",
       "      <td>6.249000</td>\n",
       "      <td>7.331000</td>\n",
       "      <td>6.565000</td>\n",
       "      <td>5.109000</td>\n",
       "      <td>2.462000</td>\n",
       "      <td>3.245000</td>\n",
       "      <td>5.283000</td>\n",
       "      <td>2.946000</td>\n",
       "      <td>3.359000</td>\n",
       "      <td>...</td>\n",
       "      <td>0.000000</td>\n",
       "      <td>0.000000</td>\n",
       "      <td>0.000000</td>\n",
       "      <td>0.000000</td>\n",
       "      <td>0.000000</td>\n",
       "      <td>0.000000</td>\n",
       "      <td>0.000000</td>\n",
       "      <td>0.000000</td>\n",
       "      <td>0.000000</td>\n",
       "      <td>0.114000</td>\n",
       "    </tr>\n",
       "    <tr>\n",
       "      <th>25%</th>\n",
       "      <td>24.043000</td>\n",
       "      <td>21.156500</td>\n",
       "      <td>24.145000</td>\n",
       "      <td>23.491000</td>\n",
       "      <td>23.679000</td>\n",
       "      <td>13.907000</td>\n",
       "      <td>14.014500</td>\n",
       "      <td>17.068750</td>\n",
       "      <td>10.608000</td>\n",
       "      <td>14.271000</td>\n",
       "      <td>...</td>\n",
       "      <td>10.498000</td>\n",
       "      <td>9.397000</td>\n",
       "      <td>7.819000</td>\n",
       "      <td>7.911250</td>\n",
       "      <td>6.000000</td>\n",
       "      <td>4.960500</td>\n",
       "      <td>2.712000</td>\n",
       "      <td>1.026000</td>\n",
       "      <td>2.019750</td>\n",
       "      <td>4.674250</td>\n",
       "    </tr>\n",
       "    <tr>\n",
       "      <th>50%</th>\n",
       "      <td>32.519500</td>\n",
       "      <td>32.185000</td>\n",
       "      <td>33.185000</td>\n",
       "      <td>31.970500</td>\n",
       "      <td>32.071000</td>\n",
       "      <td>28.016000</td>\n",
       "      <td>26.260000</td>\n",
       "      <td>27.870000</td>\n",
       "      <td>23.423000</td>\n",
       "      <td>24.524000</td>\n",
       "      <td>...</td>\n",
       "      <td>15.630000</td>\n",
       "      <td>13.828000</td>\n",
       "      <td>13.547000</td>\n",
       "      <td>13.375000</td>\n",
       "      <td>11.355500</td>\n",
       "      <td>11.670500</td>\n",
       "      <td>13.851500</td>\n",
       "      <td>15.610000</td>\n",
       "      <td>12.204000</td>\n",
       "      <td>12.173000</td>\n",
       "    </tr>\n",
       "    <tr>\n",
       "      <th>75%</th>\n",
       "      <td>39.256000</td>\n",
       "      <td>38.484000</td>\n",
       "      <td>38.929000</td>\n",
       "      <td>36.633000</td>\n",
       "      <td>36.971500</td>\n",
       "      <td>38.185000</td>\n",
       "      <td>36.154000</td>\n",
       "      <td>39.185000</td>\n",
       "      <td>33.617000</td>\n",
       "      <td>35.231750</td>\n",
       "      <td>...</td>\n",
       "      <td>20.586500</td>\n",
       "      <td>23.230000</td>\n",
       "      <td>20.418500</td>\n",
       "      <td>20.295000</td>\n",
       "      <td>17.043500</td>\n",
       "      <td>17.477000</td>\n",
       "      <td>23.010250</td>\n",
       "      <td>25.457250</td>\n",
       "      <td>23.650000</td>\n",
       "      <td>27.361500</td>\n",
       "    </tr>\n",
       "    <tr>\n",
       "      <th>max</th>\n",
       "      <td>55.303000</td>\n",
       "      <td>56.965000</td>\n",
       "      <td>54.247000</td>\n",
       "      <td>52.555000</td>\n",
       "      <td>52.370000</td>\n",
       "      <td>52.484000</td>\n",
       "      <td>53.071000</td>\n",
       "      <td>53.484000</td>\n",
       "      <td>53.185000</td>\n",
       "      <td>53.396000</td>\n",
       "      <td>...</td>\n",
       "      <td>42.524000</td>\n",
       "      <td>39.000000</td>\n",
       "      <td>39.598000</td>\n",
       "      <td>40.196000</td>\n",
       "      <td>56.989000</td>\n",
       "      <td>42.541000</td>\n",
       "      <td>42.785000</td>\n",
       "      <td>100.660000</td>\n",
       "      <td>130.624000</td>\n",
       "      <td>136.408000</td>\n",
       "    </tr>\n",
       "  </tbody>\n",
       "</table>\n",
       "<p>8 rows × 30 columns</p>\n",
       "</div>"
      ],
      "text/plain": [
       "               0           1           2           3           4           5   \\\n",
       "count  624.000000  624.000000  624.000000  624.000000  624.000000  624.000000   \n",
       "mean    30.619090   30.747096   31.717303   29.854734   29.822417   26.673753   \n",
       "std     11.804315   11.060630   10.186797    9.806759   10.346903   13.119901   \n",
       "min      0.701000    6.249000    7.331000    6.565000    5.109000    2.462000   \n",
       "25%     24.043000   21.156500   24.145000   23.491000   23.679000   13.907000   \n",
       "50%     32.519500   32.185000   33.185000   31.970500   32.071000   28.016000   \n",
       "75%     39.256000   38.484000   38.929000   36.633000   36.971500   38.185000   \n",
       "max     55.303000   56.965000   54.247000   52.555000   52.370000   52.484000   \n",
       "\n",
       "               6           7           8           9   ...          20  \\\n",
       "count  624.000000  624.000000  624.000000  624.000000  ...  624.000000   \n",
       "mean    26.397925   27.466572   24.245659   26.010772  ...   16.451268   \n",
       "std     12.325152   12.989759   12.860349   13.587295  ...   10.164135   \n",
       "min      3.245000    5.283000    2.946000    3.359000  ...    0.000000   \n",
       "25%     14.014500   17.068750   10.608000   14.271000  ...   10.498000   \n",
       "50%     26.260000   27.870000   23.423000   24.524000  ...   15.630000   \n",
       "75%     36.154000   39.185000   33.617000   35.231750  ...   20.586500   \n",
       "max     53.071000   53.484000   53.185000   53.396000  ...   42.524000   \n",
       "\n",
       "               21          22          23          24          25          26  \\\n",
       "count  624.000000  624.000000  624.000000  624.000000  624.000000  624.000000   \n",
       "mean    15.749631   14.488851   14.046566   13.442252   13.293122   13.987146   \n",
       "std      9.734205    9.798895    9.023769   12.011685   10.492269   11.228270   \n",
       "min      0.000000    0.000000    0.000000    0.000000    0.000000    0.000000   \n",
       "25%      9.397000    7.819000    7.911250    6.000000    4.960500    2.712000   \n",
       "50%     13.828000   13.547000   13.375000   11.355500   11.670500   13.851500   \n",
       "75%     23.230000   20.418500   20.295000   17.043500   17.477000   23.010250   \n",
       "max     39.000000   39.598000   40.196000   56.989000   42.541000   42.785000   \n",
       "\n",
       "               27          28          29  \n",
       "count  624.000000  624.000000  624.000000  \n",
       "mean    15.972907   14.172434   16.848830  \n",
       "std     14.410665   12.860976   15.812062  \n",
       "min      0.000000    0.000000    0.114000  \n",
       "25%      1.026000    2.019750    4.674250  \n",
       "50%     15.610000   12.204000   12.173000  \n",
       "75%     25.457250   23.650000   27.361500  \n",
       "max    100.660000  130.624000  136.408000  \n",
       "\n",
       "[8 rows x 30 columns]"
      ]
     },
     "execution_count": 58,
     "metadata": {},
     "output_type": "execute_result"
    }
   ],
   "source": [
    "df.describe()"
   ]
  },
  {
   "cell_type": "code",
   "execution_count": 59,
   "metadata": {},
   "outputs": [
    {
     "name": "stdout",
     "output_type": "stream",
     "text": [
      "[[-0.73082864 -0.70493447 -0.6183073  ...  0.85626479  0.849959\n",
      "   0.93875487]\n",
      " [-0.15093641 -0.08610974 -0.05198755 ...  0.86642683  0.93742584\n",
      "   0.93875487]\n",
      " [ 0.63240195  0.80674825  0.8282628  ...  0.95556754  0.91127326\n",
      "   0.86160219]\n",
      " ...\n",
      " [ 2.10762231  1.99602566  1.94453734 ... -0.81022065 -0.55239682\n",
      "  -0.71523849]\n",
      " [-1.26575976 -1.13792054 -1.21459106 ... -1.13041405 -0.58073607\n",
      "  -1.08907199]\n",
      " [-1.40229523 -1.17830557 -1.66820004 ... -1.41147469 -1.1683383\n",
      "  -1.36363454]]\n"
     ]
    }
   ],
   "source": [
    "#Before we do PCA, we have to centre and scale the data\n",
    "\n",
    "scaled_data= preprocessing.scale(df.T)\n",
    "print(scaled_data)"
   ]
  },
  {
   "cell_type": "code",
   "execution_count": 60,
   "metadata": {},
   "outputs": [
    {
     "name": "stdout",
     "output_type": "stream",
     "text": [
      "[3.65536488e-01 1.33691085e-01 9.05071647e-02 7.86895011e-02\n",
      " 6.71403810e-02 6.48327539e-02 5.14519830e-02 3.93091752e-02\n",
      " 2.27555306e-02 1.98046935e-02 1.68223337e-02 1.25415570e-02\n",
      " 8.31334679e-03 7.82370129e-03 7.75215526e-03 4.30355293e-03\n",
      " 2.93620021e-03 1.47449275e-03 1.23263599e-03 7.68196728e-04\n",
      " 6.18729017e-04 4.78778774e-04 3.55916933e-04 2.32480648e-04\n",
      " 2.01181501e-04 1.56923707e-04 1.23054790e-04 8.49519131e-05\n",
      " 6.10537376e-05 8.54831456e-33]\n"
     ]
    }
   ],
   "source": [
    "#Import and apply PCA\n",
    "pca= PCA()\n",
    "pca.fit(scaled_data)\n",
    "pca_data=pca.transform(scaled_data)\n",
    "explained_variance = pca.explained_variance_ratio_\n",
    "print(explained_variance)"
   ]
  },
  {
   "cell_type": "code",
   "execution_count": 61,
   "metadata": {},
   "outputs": [
    {
     "name": "stdout",
     "output_type": "stream",
     "text": [
      "[[-33.97248268  11.54993995  11.30726855 ...   3.50748777  -9.40210761\n",
      "  -18.85391149]\n",
      " [-32.73313746  12.32582132  15.84783324 ...   4.8859378   -9.48953894\n",
      "  -19.64588735]\n",
      " [-37.26230542   9.50192504  15.49172463 ...   3.58814369  -8.09173942\n",
      "  -18.7989337 ]\n",
      " ...\n",
      " [ 13.72924798 -18.68174375   5.57593577 ...  -5.23522528  -4.57087928\n",
      "   -1.77202887]\n",
      " [ 25.93452629 -15.54881004   4.68667788 ...  -2.38565722  -5.28949882\n",
      "   -1.46627042]\n",
      " [ 18.49977204 -18.65494343   5.64573163 ...  -4.44362351  -4.57933503\n",
      "   -1.0091481 ]]\n"
     ]
    }
   ],
   "source": [
    "pca = PCA(.95)\n",
    "lower_dimensional_data = pca.fit_transform(df)\n",
    "print(lower_dimensional_data)"
   ]
  },
  {
   "cell_type": "code",
   "execution_count": 62,
   "metadata": {},
   "outputs": [
    {
     "data": {
      "text/plain": [
       "11"
      ]
     },
     "execution_count": 62,
     "metadata": {},
     "output_type": "execute_result"
    }
   ],
   "source": [
    "pca.n_components_"
   ]
  },
  {
   "cell_type": "code",
   "execution_count": 63,
   "metadata": {},
   "outputs": [
    {
     "data": {
      "text/plain": [
       "4297.343151888317"
      ]
     },
     "execution_count": 63,
     "metadata": {},
     "output_type": "execute_result"
    }
   ],
   "source": [
    "tot = sum(pca.explained_variance_)\n",
    "tot"
   ]
  },
  {
   "cell_type": "code",
   "execution_count": 64,
   "metadata": {},
   "outputs": [
    {
     "data": {
      "text/plain": [
       "array([1763.1386982 ,  594.81743359,  473.83630724,  394.16737023,\n",
       "        337.34341908,  236.13380223,  159.81736545,  100.15868958,\n",
       "         92.74445562,   82.64696101,   62.53864966])"
      ]
     },
     "execution_count": 64,
     "metadata": {},
     "output_type": "execute_result"
    }
   ],
   "source": [
    "pca.explained_variance_"
   ]
  },
  {
   "cell_type": "code",
   "execution_count": 65,
   "metadata": {},
   "outputs": [
    {
     "data": {
      "text/plain": [
       "array([0.39380461, 0.13285503, 0.10583338, 0.08803898, 0.0753471 ,\n",
       "       0.0527415 , 0.0356959 , 0.02237087, 0.02071487, 0.01845955,\n",
       "       0.01396828])"
      ]
     },
     "execution_count": 65,
     "metadata": {},
     "output_type": "execute_result"
    }
   ],
   "source": [
    "pca.explained_variance_ratio_"
   ]
  },
  {
   "cell_type": "code",
   "execution_count": 66,
   "metadata": {},
   "outputs": [
    {
     "name": "stdout",
     "output_type": "stream",
     "text": [
      "[41.02857593364433, 13.841515852056185, 11.026261820297053, 9.17235036377967, 7.85004611359887]\n"
     ]
    }
   ],
   "source": [
    "var_exp = [(i/tot)*100 for i in sorted(pca.explained_variance_, reverse=True)] \n",
    "print(var_exp[0:5])"
   ]
  },
  {
   "cell_type": "code",
   "execution_count": 67,
   "metadata": {},
   "outputs": [
    {
     "name": "stdout",
     "output_type": "stream",
     "text": [
      "[41.02857593364433, 13.841515852056185, 11.026261820297053, 9.17235036377967, 7.85004611359887]\n"
     ]
    }
   ],
   "source": [
    "var_exp = [(i/tot)*100 for i in sorted(pca.explained_variance_, reverse=True)] \n",
    "print(var_exp[0:5])"
   ]
  },
  {
   "cell_type": "code",
   "execution_count": 68,
   "metadata": {},
   "outputs": [],
   "source": [
    "cum_var_exp = np.cumsum(var_exp)"
   ]
  },
  {
   "cell_type": "code",
   "execution_count": 69,
   "metadata": {},
   "outputs": [],
   "source": [
    "\n",
    "# Indices corresponding to the first occurrence are returned with the np.argmax function\n",
    "# Adding 1 to the end of value in list as principal components start from 1 and indexes start from 0 (np.argmax)\n",
    "componentsVariance = [30, np.argmax(cum_var_exp > 90) + 1, np.argmax(cum_var_exp > 80) + 1, np.argmax(cum_var_exp > 50) + 1]"
   ]
  },
  {
   "cell_type": "code",
   "execution_count": 70,
   "metadata": {},
   "outputs": [],
   "source": [
    "# Principal componenet needed to expain 90%, 80% and 50% variance"
   ]
  },
  {
   "cell_type": "code",
   "execution_count": 71,
   "metadata": {},
   "outputs": [
    {
     "data": {
      "text/plain": [
       "[30, 7, 5, 2]"
      ]
     },
     "execution_count": 71,
     "metadata": {},
     "output_type": "execute_result"
    }
   ],
   "source": [
    "componentsVariance"
   ]
  },
  {
   "cell_type": "code",
   "execution_count": 72,
   "metadata": {},
   "outputs": [
    {
     "data": {
      "text/plain": [
       "array([0.39380461, 0.13285503, 0.10583338, 0.08803898, 0.0753471 ,\n",
       "       0.0527415 , 0.0356959 , 0.02237087, 0.02071487, 0.01845955,\n",
       "       0.01396828])"
      ]
     },
     "execution_count": 72,
     "metadata": {},
     "output_type": "execute_result"
    }
   ],
   "source": [
    "explained_variance=pca.explained_variance_ratio_\n",
    "explained_variance"
   ]
  },
  {
   "cell_type": "code",
   "execution_count": 73,
   "metadata": {},
   "outputs": [
    {
     "name": "stdout",
     "output_type": "stream",
     "text": [
      "[0.39380461 0.13285503 0.10583338 0.08803898 0.0753471  0.0527415\n",
      " 0.0356959  0.02237087 0.02071487 0.01845955 0.01396828]\n"
     ]
    }
   ],
   "source": [
    "explained_variance = pca.explained_variance_ratio_\n",
    "print(explained_variance)"
   ]
  },
  {
   "cell_type": "code",
   "execution_count": 74,
   "metadata": {},
   "outputs": [],
   "source": [
    "# project 1, 2, 10 and 100 PCAs"
   ]
  },
  {
   "cell_type": "code",
   "execution_count": 75,
   "metadata": {},
   "outputs": [
    {
     "name": "stdout",
     "output_type": "stream",
     "text": [
      "uint8\n",
      "(30, 32)\n"
     ]
    },
    {
     "data": {
      "image/png": "[encoded data removed]",
      "text/plain": [
       "<Figure size 432x288 with 1 Axes>"
      ]
     },
     "metadata": {
      "needs_background": "light"
     },
     "output_type": "display_data"
    }
   ],
   "source": [
    "# load and display ane image mitchell_up_angry_open_4.pgm with Matplotlib for 1,2 10 and 100 PCs.\n",
    "%matplotlib inline\n",
    "import matplotlib.image as mpimg\n",
    "from matplotlib import image\n",
    "from matplotlib import pyplot\n",
    "# load image as pixel array\n",
    "import os\n",
    "#dir =os.chdir(r\"C:\\Users\\LENOVO\\Documents\\faces_4\"\n",
    "data = image.imread(r\"C:\\Users\\LENOVO\\Documents\\faces_4\\mitchell\\mitchell_up_angry_open_4.pgm\")\n",
    "# summarize shape of the pixel array\n",
    "print(data.dtype)\n",
    "print(data.shape)\n",
    "# display the array of pixels as an image\n",
    "pyplot.imshow(data)\n",
    "pyplot.show()"
   ]
  },
  {
   "cell_type": "code",
   "execution_count": 76,
   "metadata": {},
   "outputs": [
    {
     "name": "stdout",
     "output_type": "stream",
     "text": [
      "[[ 0.00913665 -0.00071567  0.01749083  0.09204747  0.15511776  0.18097921\n",
      "   0.20119619  0.24186563  0.23003731  0.24712252  0.25177388  0.24332793\n",
      "   0.19196434  0.12831953  0.15968577  0.18115447  0.20616011  0.19751169\n",
      "   0.16952185  0.13752001  0.20409026  0.18623747  0.20046418  0.2003371\n",
      "   0.2208411   0.22702708  0.20060763  0.16747727  0.13590788  0.05949002\n",
      "  -0.0483147  -0.09141484]]\n"
     ]
    }
   ],
   "source": [
    "pca = PCA(n_components=1)\n",
    "pca.fit(data)\n",
    "print(pca.components_)"
   ]
  },
  {
   "cell_type": "code",
   "execution_count": 77,
   "metadata": {},
   "outputs": [
    {
     "data": {
      "text/plain": [
       "array([0.50517354])"
      ]
     },
     "execution_count": 77,
     "metadata": {},
     "output_type": "execute_result"
    }
   ],
   "source": [
    "explained_variance=pca.explained_variance_ratio_\n",
    "explained_variance"
   ]
  },
  {
   "cell_type": "code",
   "execution_count": 78,
   "metadata": {},
   "outputs": [
    {
     "name": "stdout",
     "output_type": "stream",
     "text": [
      "[[ 0.00913665 -0.00071567  0.01749083  0.09204747  0.15511776  0.18097921\n",
      "   0.20119619  0.24186563  0.23003731  0.24712252  0.25177388  0.24332793\n",
      "   0.19196434  0.12831953  0.15968577  0.18115447  0.20616011  0.19751169\n",
      "   0.16952185  0.13752001  0.20409026  0.18623747  0.20046418  0.2003371\n",
      "   0.2208411   0.22702708  0.20060763  0.16747727  0.13590788  0.05949002\n",
      "  -0.0483147  -0.09141484]\n",
      " [-0.028949    0.02589078  0.09254276  0.12571505  0.14834681  0.17631764\n",
      "   0.14264712  0.15941155  0.14552572  0.09996905  0.10925704  0.07099338\n",
      "  -0.0893855  -0.30618126 -0.33529798 -0.36740201 -0.39193544 -0.31068407\n",
      "  -0.26972095 -0.18874703  0.0017272   0.06886582  0.05111146  0.06235287\n",
      "   0.11585907  0.13840698  0.10467751  0.09863141  0.16226772  0.14248921\n",
      "   0.07150695  0.05659251]]\n"
     ]
    }
   ],
   "source": [
    "from sklearn.decomposition import PCA\n",
    "pca = PCA(n_components=2)\n",
    "pca.fit(data)\n",
    "print(pca.components_)"
   ]
  },
  {
   "cell_type": "code",
   "execution_count": 79,
   "metadata": {},
   "outputs": [
    {
     "data": {
      "text/plain": [
       "array([0.50517354, 0.2967965 ])"
      ]
     },
     "execution_count": 79,
     "metadata": {},
     "output_type": "execute_result"
    }
   ],
   "source": [
    "explained_variance=pca.explained_variance_ratio_\n",
    "explained_variance"
   ]
  },
  {
   "cell_type": "code",
   "execution_count": 80,
   "metadata": {
    "scrolled": true
   },
   "outputs": [
    {
     "name": "stdout",
     "output_type": "stream",
     "text": [
      "[[ 0.00913665 -0.00071567  0.01749083  0.09204747  0.15511776  0.18097921\n",
      "   0.20119619  0.24186563  0.23003731  0.24712252  0.25177388  0.24332793\n",
      "   0.19196434  0.12831953  0.15968577  0.18115447  0.20616011  0.19751169\n",
      "   0.16952185  0.13752001  0.20409026  0.18623747  0.20046418  0.2003371\n",
      "   0.2208411   0.22702708  0.20060763  0.16747727  0.13590788  0.05949002\n",
      "  -0.0483147  -0.09141484]\n",
      " [-0.028949    0.02589078  0.09254276  0.12571505  0.14834681  0.17631764\n",
      "   0.14264712  0.15941155  0.14552572  0.09996905  0.10925704  0.07099338\n",
      "  -0.0893855  -0.30618126 -0.33529798 -0.36740201 -0.39193544 -0.31068407\n",
      "  -0.26972095 -0.18874703  0.0017272   0.06886582  0.05111146  0.06235287\n",
      "   0.11585907  0.13840698  0.10467751  0.09863141  0.16226772  0.14248921\n",
      "   0.07150695  0.05659251]\n",
      " [ 0.04876656 -0.07695359  0.02212378 -0.14309332 -0.2367921  -0.19864726\n",
      "  -0.09279232  0.02249449  0.03380582  0.16244947  0.14963401  0.16757414\n",
      "  -0.26945948 -0.40923081 -0.14144899  0.18727099  0.21823507  0.18470357\n",
      "  -0.16127839 -0.39079866 -0.05110934  0.22964141  0.12412927  0.11544082\n",
      "   0.04940028  0.02113896  0.00349526 -0.04332759 -0.20072429 -0.25540055\n",
      "  -0.16685776 -0.10114522]\n",
      " [ 0.15429449  0.06799755  0.21127113  0.16748707  0.07162637  0.16775824\n",
      "   0.17153288 -0.02259977 -0.08911145 -0.09803479 -0.00523013  0.56119294\n",
      "   0.29153751 -0.07742198 -0.00738807 -0.00760897  0.03090505  0.05949248\n",
      "  -0.02944528 -0.13120345  0.09777787  0.15897102 -0.04593405 -0.10077139\n",
      "  -0.32295458 -0.32391526 -0.1976534  -0.16860818 -0.1932309   0.12868195\n",
      "   0.0987968   0.04483381]\n",
      " [-0.20547135  0.28170046  0.27566539  0.28485024  0.17837599 -0.04579591\n",
      "  -0.23817959 -0.08278942  0.00950612 -0.22608852 -0.03110661  0.02858979\n",
      "   0.03542838 -0.24804536  0.21604439 -0.00093325 -0.06398198  0.0712563\n",
      "   0.34686035 -0.1943434  -0.13594586 -0.1806694   0.12676925  0.14728582\n",
      "   0.25746701  0.22668823 -0.001744   -0.17276753 -0.18129309  0.00188356\n",
      "   0.05417369  0.14790024]\n",
      " [ 0.02332043  0.32006444  0.14761115  0.03522748  0.05486466  0.36672237\n",
      "   0.32746696  0.14767232  0.12754002 -0.07177687 -0.21800412 -0.23032569\n",
      "  -0.16952385 -0.0954429  -0.10247528  0.25503311  0.34509216  0.18483094\n",
      "  -0.16197642 -0.13935425 -0.19766625 -0.21076848 -0.21356959 -0.1238192\n",
      "  -0.05877242  0.01299574  0.03363794  0.07818164  0.10728516  0.01913464\n",
      "   0.00643832  0.07702415]\n",
      " [-0.26237647 -0.3258581  -0.09577932  0.19024701 -0.10084179 -0.14146498\n",
      "  -0.01490623  0.30310605  0.19672008  0.3344912   0.18859563 -0.13831334\n",
      "   0.05340743 -0.02674583  0.13311103  0.05727078 -0.03109234  0.16677084\n",
      "   0.01600865 -0.18563191 -0.12926061 -0.21820136 -0.07883418 -0.04739559\n",
      "  -0.14872338 -0.15240458 -0.11559658 -0.11391583 -0.00626391  0.17379759\n",
      "   0.40493328  0.15907657]\n",
      " [ 0.28019604  0.13321926  0.40317043  0.06371944 -0.07027197 -0.07042927\n",
      "  -0.15746048  0.25599237  0.1508889   0.31441995  0.20043849 -0.0901025\n",
      "   0.12780475  0.0665806  -0.11317304 -0.07875513 -0.02849892 -0.16428321\n",
      "   0.1009045   0.13602169  0.09962533 -0.29342294 -0.19968701 -0.19421489\n",
      "  -0.04671243  0.02262672 -0.04642423 -0.06386492 -0.20364236 -0.25766767\n",
      "  -0.27245217 -0.07804263]\n",
      " [ 0.23561101  0.33905893 -0.14191504 -0.30630214 -0.18960612 -0.36222801\n",
      "  -0.10639179  0.10999726  0.14773854 -0.14031702 -0.01859888  0.1293127\n",
      "   0.3044801  -0.08828754 -0.00068841  0.01869318  0.11891422 -0.07177001\n",
      "  -0.13798777 -0.074341    0.18943229 -0.18106115 -0.00155324  0.05686422\n",
      "   0.01419007  0.08770852  0.10746227  0.14263017  0.1266324   0.12214518\n",
      "   0.22036661  0.36122944]\n",
      " [ 0.27679796 -0.0647006   0.21425724  0.31899469  0.19293383 -0.29184347\n",
      "  -0.3482693   0.0790484  -0.04816858  0.04338698 -0.19135055 -0.09611018\n",
      "  -0.08198794 -0.14358777  0.11494895  0.02657816  0.2209201  -0.03053017\n",
      "  -0.1001482   0.02965663 -0.02961939  0.18556744  0.00144474 -0.0255441\n",
      "  -0.06155552 -0.09749451 -0.02722494  0.10651075  0.38446919  0.33564594\n",
      "  -0.0509314  -0.2126496 ]]\n"
     ]
    }
   ],
   "source": [
    "from sklearn.decomposition import PCA\n",
    "pca = PCA(n_components=10)\n",
    "pca.fit(data)\n",
    "print(pca.components_)"
   ]
  },
  {
   "cell_type": "code",
   "execution_count": 82,
   "metadata": {},
   "outputs": [
    {
     "data": {
      "text/plain": [
       "array([0.50517354, 0.2967965 , 0.06865813, 0.0292773 , 0.02317117,\n",
       "       0.02076437, 0.01190271, 0.01124144, 0.00868164, 0.00533371])"
      ]
     },
     "execution_count": 82,
     "metadata": {},
     "output_type": "execute_result"
    }
   ],
   "source": [
    "explained_variance=pca.explained_variance_ratio_\n",
    "explained_variance"
   ]
  },
  {
   "cell_type": "code",
   "execution_count": null,
   "metadata": {},
   "outputs": [],
   "source": [
    "from sklearn.decomposition import PCA\n",
    "pca = PCA(n_components=100)\n",
    "pca.fit(data)\n",
    "print(pca.components_)"
   ]
  },
  {
   "cell_type": "code",
   "execution_count": null,
   "metadata": {},
   "outputs": [],
   "source": [
    "# In ordere to project for 100 PCs n_components=100 must be between 0 and min(n_samples, n_features)=30 with svd_solver='full"
   ]
  }
 ],
 "metadata": {
  "kernelspec": {
   "display_name": "Python 3",
   "language": "python",
   "name": "python3"
  },
  "language_info": {
   "codemirror_mode": {
    "name": "ipython",
    "version": 3
   },
   "file_extension": ".py",
   "mimetype": "text/x-python",
   "name": "python",
   "nbconvert_exporter": "python",
   "pygments_lexer": "ipython3",
   "version": "3.7.3"
  }
 },
 "nbformat": 4,
 "nbformat_minor": 2
}
